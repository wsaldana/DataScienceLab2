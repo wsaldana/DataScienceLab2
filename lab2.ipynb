{
 "cells": [
  {
   "cell_type": "markdown",
   "id": "4af5b6a6",
   "metadata": {},
   "source": [
    "Universidad del Valle de Guatemala - 22/07/2022\n",
    "\n",
    "Jose Abrahama Gutierrez Corado - 19111 <br>\n",
    "Walter Danilo Saldaña - 19897 <br>\n",
    "Javier Alejandro Cotto Argueta -19324\n",
    "\n",
    "\n",
    "# Laboratorio 1\n",
    "## Series de tiempo\n",
    "______________________________________________________\n"
   ]
  },
  {
   "cell_type": "markdown",
   "id": "e228b8ed",
   "metadata": {},
   "source": [
    "Importar módulos"
   ]
  },
  {
   "cell_type": "code",
   "execution_count": 50,
   "id": "c504d826",
   "metadata": {},
   "outputs": [],
   "source": [
    "import pandas as pd\n",
    "import matplotlib.pyplot as plt\n",
    "import numpy as np\n",
    "from scipy.stats import norm"
   ]
  },
  {
   "cell_type": "markdown",
   "id": "21186a09",
   "metadata": {},
   "source": [
    "## Carga de datos"
   ]
  },
  {
   "cell_type": "code",
   "execution_count": 21,
   "id": "df0824ad",
   "metadata": {},
   "outputs": [
    {
     "data": {
      "text/html": [
       "<div>\n",
       "<style scoped>\n",
       "    .dataframe tbody tr th:only-of-type {\n",
       "        vertical-align: middle;\n",
       "    }\n",
       "\n",
       "    .dataframe tbody tr th {\n",
       "        vertical-align: top;\n",
       "    }\n",
       "\n",
       "    .dataframe thead th {\n",
       "        text-align: right;\n",
       "    }\n",
       "</style>\n",
       "<table border=\"1\" class=\"dataframe\">\n",
       "  <thead>\n",
       "    <tr style=\"text-align: right;\">\n",
       "      <th></th>\n",
       "      <th>dt</th>\n",
       "      <th>AverageTemperature</th>\n",
       "      <th>AverageTemperatureUncertainty</th>\n",
       "      <th>Country</th>\n",
       "    </tr>\n",
       "  </thead>\n",
       "  <tbody>\n",
       "    <tr>\n",
       "      <th>0</th>\n",
       "      <td>1743-11-01</td>\n",
       "      <td>4.384</td>\n",
       "      <td>2.294</td>\n",
       "      <td>Åland</td>\n",
       "    </tr>\n",
       "    <tr>\n",
       "      <th>1</th>\n",
       "      <td>1743-12-01</td>\n",
       "      <td>NaN</td>\n",
       "      <td>NaN</td>\n",
       "      <td>Åland</td>\n",
       "    </tr>\n",
       "    <tr>\n",
       "      <th>2</th>\n",
       "      <td>1744-01-01</td>\n",
       "      <td>NaN</td>\n",
       "      <td>NaN</td>\n",
       "      <td>Åland</td>\n",
       "    </tr>\n",
       "    <tr>\n",
       "      <th>3</th>\n",
       "      <td>1744-02-01</td>\n",
       "      <td>NaN</td>\n",
       "      <td>NaN</td>\n",
       "      <td>Åland</td>\n",
       "    </tr>\n",
       "    <tr>\n",
       "      <th>4</th>\n",
       "      <td>1744-03-01</td>\n",
       "      <td>NaN</td>\n",
       "      <td>NaN</td>\n",
       "      <td>Åland</td>\n",
       "    </tr>\n",
       "  </tbody>\n",
       "</table>\n",
       "</div>"
      ],
      "text/plain": [
       "           dt  AverageTemperature  AverageTemperatureUncertainty Country\n",
       "0  1743-11-01               4.384                          2.294   Åland\n",
       "1  1743-12-01                 NaN                            NaN   Åland\n",
       "2  1744-01-01                 NaN                            NaN   Åland\n",
       "3  1744-02-01                 NaN                            NaN   Åland\n",
       "4  1744-03-01                 NaN                            NaN   Åland"
      ]
     },
     "execution_count": 21,
     "metadata": {},
     "output_type": "execute_result"
    }
   ],
   "source": [
    "df = pd.read_csv('./GlobalLandTemperaturesByCountry.csv')\n",
    "df.head()"
   ]
  },
  {
   "cell_type": "markdown",
   "id": "cfdcb687",
   "metadata": {},
   "source": [
    "## 1. Análisis exploratorio"
   ]
  },
  {
   "cell_type": "markdown",
   "id": "35f7e4a5",
   "metadata": {},
   "source": [
    "### Descripción del dataset\n",
    "Representa las temperaturas promedio mensuales, desde 1750, para muchos lugares del mundo. El documento de donde se extrajo la información lo puede encontrar en el siguiente vínculo: http://berkeleyearth.org/data/\n",
    "\n",
    "### Detalle de las variables\n",
    "\n",
    "|Variable                      |Detalle|Clasificación|\n",
    "|:-----------------------------|:------|:------------|\n",
    "|dt                            |Date time. Mes y año de la medición|Cualitativa ordinal|\n",
    "|AverageTemperature            |Temperatura promedio en el mes y año indicado por dt|Cuantitativa continua|\n",
    "|AverageTemperatureUncertainty |Incertidumbre de la medición de temperatura|Cuantitativa continua|\n",
    "|Country                       |País dónde se realizó la medición|Cualitativa nominal|\n"
   ]
  },
  {
   "cell_type": "markdown",
   "id": "70d9666a",
   "metadata": {},
   "source": [
    "### Resúmen estadístico del dataset"
   ]
  },
  {
   "cell_type": "code",
   "execution_count": 22,
   "id": "7e784772",
   "metadata": {},
   "outputs": [
    {
     "data": {
      "text/html": [
       "<div>\n",
       "<style scoped>\n",
       "    .dataframe tbody tr th:only-of-type {\n",
       "        vertical-align: middle;\n",
       "    }\n",
       "\n",
       "    .dataframe tbody tr th {\n",
       "        vertical-align: top;\n",
       "    }\n",
       "\n",
       "    .dataframe thead th {\n",
       "        text-align: right;\n",
       "    }\n",
       "</style>\n",
       "<table border=\"1\" class=\"dataframe\">\n",
       "  <thead>\n",
       "    <tr style=\"text-align: right;\">\n",
       "      <th></th>\n",
       "      <th>AverageTemperature</th>\n",
       "      <th>AverageTemperatureUncertainty</th>\n",
       "    </tr>\n",
       "  </thead>\n",
       "  <tbody>\n",
       "    <tr>\n",
       "      <th>count</th>\n",
       "      <td>544811.000000</td>\n",
       "      <td>545550.000000</td>\n",
       "    </tr>\n",
       "    <tr>\n",
       "      <th>mean</th>\n",
       "      <td>17.193354</td>\n",
       "      <td>1.019057</td>\n",
       "    </tr>\n",
       "    <tr>\n",
       "      <th>std</th>\n",
       "      <td>10.953966</td>\n",
       "      <td>1.201930</td>\n",
       "    </tr>\n",
       "    <tr>\n",
       "      <th>min</th>\n",
       "      <td>-37.658000</td>\n",
       "      <td>0.052000</td>\n",
       "    </tr>\n",
       "    <tr>\n",
       "      <th>25%</th>\n",
       "      <td>10.025000</td>\n",
       "      <td>0.323000</td>\n",
       "    </tr>\n",
       "    <tr>\n",
       "      <th>50%</th>\n",
       "      <td>20.901000</td>\n",
       "      <td>0.571000</td>\n",
       "    </tr>\n",
       "    <tr>\n",
       "      <th>75%</th>\n",
       "      <td>25.814000</td>\n",
       "      <td>1.206000</td>\n",
       "    </tr>\n",
       "    <tr>\n",
       "      <th>max</th>\n",
       "      <td>38.842000</td>\n",
       "      <td>15.003000</td>\n",
       "    </tr>\n",
       "  </tbody>\n",
       "</table>\n",
       "</div>"
      ],
      "text/plain": [
       "       AverageTemperature  AverageTemperatureUncertainty\n",
       "count       544811.000000                  545550.000000\n",
       "mean            17.193354                       1.019057\n",
       "std             10.953966                       1.201930\n",
       "min            -37.658000                       0.052000\n",
       "25%             10.025000                       0.323000\n",
       "50%             20.901000                       0.571000\n",
       "75%             25.814000                       1.206000\n",
       "max             38.842000                      15.003000"
      ]
     },
     "execution_count": 22,
     "metadata": {},
     "output_type": "execute_result"
    }
   ],
   "source": [
    "df.describe()"
   ]
  },
  {
   "cell_type": "markdown",
   "id": "e806da0d",
   "metadata": {},
   "source": [
    "### Limpieza de datos\n",
    "#### Datos incompletos\n",
    "Las series de datos que no tienen valor para la variable `AverageTemperature` no aportan información para el análisis, por lo cual se descartan."
   ]
  },
  {
   "cell_type": "code",
   "execution_count": 23,
   "id": "f1fe22d1",
   "metadata": {},
   "outputs": [
    {
     "data": {
      "text/plain": [
       "32651"
      ]
     },
     "execution_count": 23,
     "metadata": {},
     "output_type": "execute_result"
    }
   ],
   "source": [
    "df['AverageTemperature'].isnull().sum()"
   ]
  },
  {
   "cell_type": "code",
   "execution_count": 24,
   "id": "714ea955",
   "metadata": {},
   "outputs": [
    {
     "data": {
      "text/plain": [
       "0"
      ]
     },
     "execution_count": 24,
     "metadata": {},
     "output_type": "execute_result"
    }
   ],
   "source": [
    "df = df.dropna(subset=['AverageTemperature'])\n",
    "df['AverageTemperature'].isnull().sum()"
   ]
  },
  {
   "cell_type": "markdown",
   "id": "3e72c178",
   "metadata": {},
   "source": [
    "A fines prácticos se aproximará a 0 la incertidumbre (`AverageTemperatureUncertainty`) de las filas que no tengan información de la misma."
   ]
  },
  {
   "cell_type": "code",
   "execution_count": 26,
   "id": "ba25b8d4",
   "metadata": {},
   "outputs": [
    {
     "data": {
      "text/plain": [
       "0"
      ]
     },
     "execution_count": 26,
     "metadata": {},
     "output_type": "execute_result"
    }
   ],
   "source": [
    "df['AverageTemperatureUncertainty'] = df['AverageTemperatureUncertainty'].fillna(0)\n",
    "df['AverageTemperatureUncertainty'].isnull().sum()"
   ]
  },
  {
   "cell_type": "markdown",
   "id": "f0d0ab76",
   "metadata": {},
   "source": [
    "#### Datos atípicos\n",
    "Se analizan los datos atípicos de la variable `AverageTemperature`."
   ]
  },
  {
   "cell_type": "code",
   "execution_count": 27,
   "id": "dea28522",
   "metadata": {},
   "outputs": [
    {
     "data": {
      "image/png": "[encoded data removed]",
      "text/plain": [
       "<Figure size 432x288 with 1 Axes>"
      ]
     },
     "metadata": {
      "needs_background": "light"
     },
     "output_type": "display_data"
    }
   ],
   "source": [
    "plt.boxplot(df['AverageTemperature'])\n",
    "plt.title('AverageTemperature')\n",
    "plt.show()"
   ]
  },
  {
   "cell_type": "code",
   "execution_count": 33,
   "id": "b59f211a",
   "metadata": {},
   "outputs": [],
   "source": [
    "Q1 = df['AverageTemperature'].quantile(0.25)\n",
    "Q3 = df['AverageTemperature'].quantile(0.75)\n",
    "IQR = Q3 - Q1\n",
    "\n",
    "inferior = df[df['AverageTemperature'] < (Q1 - 1.5 * IQR)]\n",
    "superior = df[df['AverageTemperature'] > (Q3 + 1.5 * IQR)]"
   ]
  },
  {
   "cell_type": "code",
   "execution_count": 37,
   "id": "d467cfdc",
   "metadata": {},
   "outputs": [
    {
     "data": {
      "text/plain": [
       "6438"
      ]
     },
     "execution_count": 37,
     "metadata": {},
     "output_type": "execute_result"
    }
   ],
   "source": [
    "len(inferior)"
   ]
  },
  {
   "cell_type": "code",
   "execution_count": 38,
   "id": "5e9d18a7",
   "metadata": {},
   "outputs": [
    {
     "data": {
      "text/plain": [
       "0"
      ]
     },
     "execution_count": 38,
     "metadata": {},
     "output_type": "execute_result"
    }
   ],
   "source": [
    "len(superior)"
   ]
  },
  {
   "cell_type": "markdown",
   "id": "c7fffbf1",
   "metadata": {},
   "source": [
    "Dada la naturaleza del dataset y al ser medidas climáticas, se espera que los datos atípicos sí aporten información significatica al análisis, por lo que no hay necesidad de eliminarlos."
   ]
  },
  {
   "cell_type": "markdown",
   "id": "5a32fbf5",
   "metadata": {},
   "source": [
    "Se analizan los datos atípicos de la variable `AverageTemperatureUncertainty`."
   ]
  },
  {
   "cell_type": "code",
   "execution_count": 39,
   "id": "ed86af28",
   "metadata": {},
   "outputs": [
    {
     "data": {
      "image/png": "[encoded data removed]",
      "text/plain": [
       "<Figure size 432x288 with 1 Axes>"
      ]
     },
     "metadata": {
      "needs_background": "light"
     },
     "output_type": "display_data"
    }
   ],
   "source": [
    "plt.boxplot(df['AverageTemperatureUncertainty'])\n",
    "plt.title('AverageTemperatureUncertainty')\n",
    "plt.show()"
   ]
  },
  {
   "cell_type": "code",
   "execution_count": 40,
   "id": "f1ad778b",
   "metadata": {},
   "outputs": [],
   "source": [
    "Q1 = df['AverageTemperatureUncertainty'].quantile(0.25)\n",
    "Q3 = df['AverageTemperatureUncertainty'].quantile(0.75)\n",
    "IQR = Q3 - Q1\n",
    "\n",
    "inferior = df[df['AverageTemperatureUncertainty'] < (Q1 - 1.5 * IQR)]\n",
    "superior = df[df['AverageTemperatureUncertainty'] > (Q3 + 1.5 * IQR)]"
   ]
  },
  {
   "cell_type": "code",
   "execution_count": 41,
   "id": "6bc42e21",
   "metadata": {},
   "outputs": [
    {
     "data": {
      "text/plain": [
       "0"
      ]
     },
     "execution_count": 41,
     "metadata": {},
     "output_type": "execute_result"
    }
   ],
   "source": [
    "len(inferior)"
   ]
  },
  {
   "cell_type": "code",
   "execution_count": 42,
   "id": "fb974b1e",
   "metadata": {},
   "outputs": [
    {
     "data": {
      "text/plain": [
       "48207"
      ]
     },
     "execution_count": 42,
     "metadata": {},
     "output_type": "execute_result"
    }
   ],
   "source": [
    "len(superior)"
   ]
  },
  {
   "cell_type": "markdown",
   "id": "3c7e4cde",
   "metadata": {},
   "source": [
    "Para el caso de esta variable, si se hace notar la importancia de eliminar los datos atípicos, pues el extremo superior indica que hay varios datos con mediciones muy imprecisas, los cuales pueden distorsionar el análisis."
   ]
  },
  {
   "cell_type": "code",
   "execution_count": 45,
   "id": "c061ad57",
   "metadata": {},
   "outputs": [
    {
     "data": {
      "image/png": "[encoded data removed]",
      "text/plain": [
       "<Figure size 432x288 with 1 Axes>"
      ]
     },
     "metadata": {
      "needs_background": "light"
     },
     "output_type": "display_data"
    }
   ],
   "source": [
    "df.drop(superior.index, inplace=True)\n",
    "    \n",
    "plt.boxplot(df['AverageTemperatureUncertainty'])\n",
    "plt.title('AverageTemperatureUncertainty')\n",
    "plt.show()"
   ]
  },
  {
   "cell_type": "markdown",
   "id": "ee22ea27",
   "metadata": {},
   "source": [
    "### Comportamiento de datos"
   ]
  },
  {
   "cell_type": "markdown",
   "id": "3b655693",
   "metadata": {},
   "source": [
    "#### Normalidad de los datos"
   ]
  },
  {
   "cell_type": "code",
   "execution_count": 55,
   "id": "d1d54236",
   "metadata": {},
   "outputs": [],
   "source": [
    "def show_normality(data):\n",
    "    mu, std = norm.fit(data)\n",
    "    plt.hist(data, bins=25, density=True, alpha=0.6, color='b')\n",
    "  \n",
    "    xmin, xmax = plt.xlim()\n",
    "    x = np.linspace(xmin, xmax, 100)\n",
    "    p = norm.pdf(x, mu, std)\n",
    "\n",
    "    plt.plot(x, p, 'k', linewidth=2)\n",
    "    title = \"Fit Values: {:.2f} and {:.2f}\".format(mu, std)\n",
    "    plt.title(title)\n",
    "    \n",
    "    plt.show()\n",
    "    \n",
    "    kurtosis = data.kurtosis()\n",
    "    skew = data.skew()\n",
    "    print('Kurtosis: ', kurtosis)\n",
    "    print('Sesgo: ', skew)"
   ]
  },
  {
   "cell_type": "code",
   "execution_count": 56,
   "id": "e9bac441",
   "metadata": {},
   "outputs": [
    {
     "data": {
      "image/png": "[encoded data removed]",
      "text/plain": [
       "<Figure size 432x288 with 1 Axes>"
      ]
     },
     "metadata": {
      "needs_background": "light"
     },
     "output_type": "display_data"
    },
    {
     "name": "stdout",
     "output_type": "stream",
     "text": [
      "Kurtosis:  1.3855022552328835\n",
      "Sesgo:  -1.2227423931132673\n"
     ]
    }
   ],
   "source": [
    "show_normality(df['AverageTemperature'])"
   ]
  },
  {
   "cell_type": "markdown",
   "id": "5b851c9e",
   "metadata": {},
   "source": [
    "No se puede aproximar la variable de `AverageTemperature` a una distribución normal."
   ]
  },
  {
   "cell_type": "code",
   "execution_count": 57,
   "id": "38f54dcb",
   "metadata": {},
   "outputs": [
    {
     "data": {
      "image/png": "[encoded data removed]",
      "text/plain": [
       "<Figure size 432x288 with 1 Axes>"
      ]
     },
     "metadata": {
      "needs_background": "light"
     },
     "output_type": "display_data"
    },
    {
     "name": "stdout",
     "output_type": "stream",
     "text": [
      "Kurtosis:  1.0329705116182009\n",
      "Sesgo:  1.3416322002714294\n"
     ]
    }
   ],
   "source": [
    "show_normality(df['AverageTemperatureUncertainty'])"
   ]
  },
  {
   "cell_type": "markdown",
   "id": "66c24d80",
   "metadata": {},
   "source": [
    "La variable de `AverageTemperatureUncertainty` tampoco cumple para una distribución normal."
   ]
  },
  {
   "cell_type": "markdown",
   "id": "4caaa68b",
   "metadata": {},
   "source": [
    "#### Lugares con temperaturas más extremas"
   ]
  },
  {
   "cell_type": "code",
   "execution_count": 72,
   "id": "4f9d89d7",
   "metadata": {},
   "outputs": [],
   "source": [
    "avg_temp_by_country = df.groupby('Country').mean()\\\n",
    "    .sort_values(by=['AverageTemperature'])"
   ]
  },
  {
   "cell_type": "code",
   "execution_count": 79,
   "id": "cfb7b218",
   "metadata": {},
   "outputs": [
    {
     "data": {
      "image/png": "[encoded data removed]",
      "text/plain": [
       "<Figure size 2880x864 with 1 Axes>"
      ]
     },
     "metadata": {
      "needs_background": "light"
     },
     "output_type": "display_data"
    }
   ],
   "source": [
    "plt.figure(figsize=(40,12))\n",
    "plt.bar(\n",
    "    avg_temp_by_country.index,\n",
    "    avg_temp_by_country['AverageTemperature']\n",
    ")\n",
    "plt.title('Temperatura promedio de cada país', size=20)\n",
    "plt.xlabel('País', size=20)\n",
    "plt.ylabel('Temperatura promedio', size=20)\n",
    "plt.show()"
   ]
  },
  {
   "cell_type": "markdown",
   "id": "b238c663",
   "metadata": {},
   "source": [
    "Top 5 lugares con temperaturas más bajas:"
   ]
  },
  {
   "cell_type": "code",
   "execution_count": 75,
   "id": "e47e20aa",
   "metadata": {
    "scrolled": true
   },
   "outputs": [
    {
     "data": {
      "text/html": [
       "<div>\n",
       "<style scoped>\n",
       "    .dataframe tbody tr th:only-of-type {\n",
       "        vertical-align: middle;\n",
       "    }\n",
       "\n",
       "    .dataframe tbody tr th {\n",
       "        vertical-align: top;\n",
       "    }\n",
       "\n",
       "    .dataframe thead th {\n",
       "        text-align: right;\n",
       "    }\n",
       "</style>\n",
       "<table border=\"1\" class=\"dataframe\">\n",
       "  <thead>\n",
       "    <tr style=\"text-align: right;\">\n",
       "      <th></th>\n",
       "      <th>AverageTemperature</th>\n",
       "      <th>AverageTemperatureUncertainty</th>\n",
       "    </tr>\n",
       "    <tr>\n",
       "      <th>Country</th>\n",
       "      <th></th>\n",
       "      <th></th>\n",
       "    </tr>\n",
       "  </thead>\n",
       "  <tbody>\n",
       "    <tr>\n",
       "      <th>Greenland</th>\n",
       "      <td>-17.382228</td>\n",
       "      <td>1.251991</td>\n",
       "    </tr>\n",
       "    <tr>\n",
       "      <th>Denmark</th>\n",
       "      <td>-16.928744</td>\n",
       "      <td>1.227067</td>\n",
       "    </tr>\n",
       "    <tr>\n",
       "      <th>Svalbard And Jan Mayen</th>\n",
       "      <td>-6.653556</td>\n",
       "      <td>1.072731</td>\n",
       "    </tr>\n",
       "    <tr>\n",
       "      <th>Russia</th>\n",
       "      <td>-5.179728</td>\n",
       "      <td>0.890896</td>\n",
       "    </tr>\n",
       "    <tr>\n",
       "      <th>Canada</th>\n",
       "      <td>-4.682512</td>\n",
       "      <td>0.943881</td>\n",
       "    </tr>\n",
       "  </tbody>\n",
       "</table>\n",
       "</div>"
      ],
      "text/plain": [
       "                        AverageTemperature  AverageTemperatureUncertainty\n",
       "Country                                                                  \n",
       "Greenland                       -17.382228                       1.251991\n",
       "Denmark                         -16.928744                       1.227067\n",
       "Svalbard And Jan Mayen           -6.653556                       1.072731\n",
       "Russia                           -5.179728                       0.890896\n",
       "Canada                           -4.682512                       0.943881"
      ]
     },
     "execution_count": 75,
     "metadata": {},
     "output_type": "execute_result"
    }
   ],
   "source": [
    "avg_temp_by_country.head()"
   ]
  },
  {
   "cell_type": "markdown",
   "id": "c256a8db",
   "metadata": {},
   "source": [
    "Top 5 lugares con temperaturas más altas:"
   ]
  },
  {
   "cell_type": "code",
   "execution_count": 76,
   "id": "1d86b16e",
   "metadata": {},
   "outputs": [
    {
     "data": {
      "text/html": [
       "<div>\n",
       "<style scoped>\n",
       "    .dataframe tbody tr th:only-of-type {\n",
       "        vertical-align: middle;\n",
       "    }\n",
       "\n",
       "    .dataframe tbody tr th {\n",
       "        vertical-align: top;\n",
       "    }\n",
       "\n",
       "    .dataframe thead th {\n",
       "        text-align: right;\n",
       "    }\n",
       "</style>\n",
       "<table border=\"1\" class=\"dataframe\">\n",
       "  <thead>\n",
       "    <tr style=\"text-align: right;\">\n",
       "      <th></th>\n",
       "      <th>AverageTemperature</th>\n",
       "      <th>AverageTemperatureUncertainty</th>\n",
       "    </tr>\n",
       "    <tr>\n",
       "      <th>Country</th>\n",
       "      <th></th>\n",
       "      <th></th>\n",
       "    </tr>\n",
       "  </thead>\n",
       "  <tbody>\n",
       "    <tr>\n",
       "      <th>Aruba</th>\n",
       "      <td>27.924171</td>\n",
       "      <td>0.633795</td>\n",
       "    </tr>\n",
       "    <tr>\n",
       "      <th>Senegal</th>\n",
       "      <td>27.984304</td>\n",
       "      <td>0.672733</td>\n",
       "    </tr>\n",
       "    <tr>\n",
       "      <th>Burkina Faso</th>\n",
       "      <td>28.085516</td>\n",
       "      <td>0.694007</td>\n",
       "    </tr>\n",
       "    <tr>\n",
       "      <th>Mali</th>\n",
       "      <td>28.444861</td>\n",
       "      <td>0.772745</td>\n",
       "    </tr>\n",
       "    <tr>\n",
       "      <th>Djibouti</th>\n",
       "      <td>28.815201</td>\n",
       "      <td>0.860161</td>\n",
       "    </tr>\n",
       "  </tbody>\n",
       "</table>\n",
       "</div>"
      ],
      "text/plain": [
       "              AverageTemperature  AverageTemperatureUncertainty\n",
       "Country                                                        \n",
       "Aruba                  27.924171                       0.633795\n",
       "Senegal                27.984304                       0.672733\n",
       "Burkina Faso           28.085516                       0.694007\n",
       "Mali                   28.444861                       0.772745\n",
       "Djibouti               28.815201                       0.860161"
      ]
     },
     "execution_count": 76,
     "metadata": {},
     "output_type": "execute_result"
    }
   ],
   "source": [
    "avg_temp_by_country.tail()"
   ]
  },
  {
   "cell_type": "markdown",
   "id": "0db08432",
   "metadata": {},
   "source": [
    "De lo más destacable en este punto es que los países más calurosos no difieren de forma extrema a la temperatura promedio del resto de países. Por el otro lado, los países más frios son más escasos, y con temperaturas más extremas en comparación a los demás."
   ]
  },
  {
   "cell_type": "markdown",
   "id": "6519f076",
   "metadata": {},
   "source": [
    "## 2. Serie univariante por la variable AverageTemperature"
   ]
  },
  {
   "cell_type": "markdown",
   "id": "a78daeb3",
   "metadata": {},
   "source": [
    "### a. Especifique Inicio, fin, y frecuencia."
   ]
  },
  {
   "cell_type": "code",
   "execution_count": null,
   "id": "e5ba3c56",
   "metadata": {},
   "outputs": [],
   "source": [
    "#"
   ]
  },
  {
   "cell_type": "markdown",
   "id": "1a89118f",
   "metadata": {},
   "source": [
    "### b. Haga un gráfico de la serie y explique qué información puede obtener a primera vista."
   ]
  },
  {
   "cell_type": "code",
   "execution_count": null,
   "id": "3266f98a",
   "metadata": {},
   "outputs": [],
   "source": []
  },
  {
   "cell_type": "markdown",
   "id": "09c49a95",
   "metadata": {},
   "source": [
    "### c. Descomponga la serie en sus componentes. Teniendo en cuenta el diagrama de la serie y sus componentes discuta si es posible hablar de estacionalidad."
   ]
  },
  {
   "cell_type": "code",
   "execution_count": null,
   "id": "69d34e25",
   "metadata": {},
   "outputs": [],
   "source": []
  },
  {
   "cell_type": "markdown",
   "id": "9a784b27",
   "metadata": {},
   "source": [
    "### d. Determine si es necesario transformar la serie. Explique."
   ]
  },
  {
   "cell_type": "code",
   "execution_count": null,
   "id": "865bed4c",
   "metadata": {},
   "outputs": [],
   "source": []
  },
  {
   "cell_type": "markdown",
   "id": "62d192c7",
   "metadata": {},
   "source": [
    "### e. Una   vez   analizada   la   serie,   elija   los  parámetros   p,   q   y   d   del   modelo   ARIMA   o SARIMA "
   ]
  },
  {
   "cell_type": "code",
   "execution_count": null,
   "id": "2f79bc8e",
   "metadata": {},
   "outputs": [],
   "source": []
  },
  {
   "cell_type": "markdown",
   "id": "25b6b5d4",
   "metadata": {},
   "source": [
    "### f. Haga varios modelos SARIMA, y diga cuál es el mejor de ellos para estimar los datos de la serie."
   ]
  },
  {
   "cell_type": "code",
   "execution_count": null,
   "id": "0a80c324",
   "metadata": {},
   "outputs": [],
   "source": []
  },
  {
   "cell_type": "markdown",
   "id": "84782dad",
   "metadata": {},
   "source": [
    "### g. Haga un modelo usando el algoritmo Prophet de Facebook. Compárelo con los modelos del inciso anterior. ¿Cuál funcionó mejor?"
   ]
  },
  {
   "cell_type": "code",
   "execution_count": null,
   "id": "345d9a12",
   "metadata": {},
   "outputs": [],
   "source": []
  }
 ],
 "metadata": {
  "kernelspec": {
   "display_name": "Python 3 (ipykernel)",
   "language": "python",
   "name": "python3"
  },
  "language_info": {
   "codemirror_mode": {
    "name": "ipython",
    "version": 3
   },
   "file_extension": ".py",
   "mimetype": "text/x-python",
   "name": "python",
   "nbconvert_exporter": "python",
   "pygments_lexer": "ipython3",
   "version": "3.9.5"
  }
 },
 "nbformat": 4,
 "nbformat_minor": 5
}
