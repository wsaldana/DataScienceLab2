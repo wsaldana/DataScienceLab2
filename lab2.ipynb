{
 "cells": [
  {
   "cell_type": "markdown",
   "id": "4af5b6a6",
   "metadata": {},
   "source": [
    "Universidad del Valle de Guatemala - 22/07/2022\n",
    "\n",
    "Jose Abrahama Gutierrez Corado - 19111 <br>\n",
    "Walter Danilo Saldaña - 19897 <br>\n",
    "Javier Alejandro Cotto Argueta -19324\n",
    "\n",
    "\n",
    "# Laboratorio 1\n",
    "## Series de tiempo\n",
    "______________________________________________________\n"
   ]
  },
  {
   "cell_type": "markdown",
   "id": "e228b8ed",
   "metadata": {},
   "source": [
    "Importar módulos"
   ]
  },
  {
   "cell_type": "code",
   "execution_count": 57,
   "id": "c504d826",
   "metadata": {},
   "outputs": [],
   "source": [
    "import pandas as pd\n",
    "import matplotlib.pyplot as plt\n",
    "import numpy as np\n",
    "from scipy.stats import norm\n",
    "import seaborn as sns\n",
    "from multiprocessing import cpu_count\n",
    "from joblib import delayed\n",
    "\n",
    "import import_ipynb\n",
    "from TS import *"
   ]
  },
  {
   "cell_type": "markdown",
   "id": "21186a09",
   "metadata": {},
   "source": [
    "## Carga de datos"
   ]
  },
  {
   "cell_type": "code",
   "execution_count": 2,
   "id": "df0824ad",
   "metadata": {},
   "outputs": [
    {
     "data": {
      "text/html": [
       "<div>\n",
       "<style scoped>\n",
       "    .dataframe tbody tr th:only-of-type {\n",
       "        vertical-align: middle;\n",
       "    }\n",
       "\n",
       "    .dataframe tbody tr th {\n",
       "        vertical-align: top;\n",
       "    }\n",
       "\n",
       "    .dataframe thead th {\n",
       "        text-align: right;\n",
       "    }\n",
       "</style>\n",
       "<table border=\"1\" class=\"dataframe\">\n",
       "  <thead>\n",
       "    <tr style=\"text-align: right;\">\n",
       "      <th></th>\n",
       "      <th>dt</th>\n",
       "      <th>AverageTemperature</th>\n",
       "      <th>AverageTemperatureUncertainty</th>\n",
       "      <th>Country</th>\n",
       "    </tr>\n",
       "  </thead>\n",
       "  <tbody>\n",
       "    <tr>\n",
       "      <th>0</th>\n",
       "      <td>1743-11-01</td>\n",
       "      <td>4.384</td>\n",
       "      <td>2.294</td>\n",
       "      <td>Åland</td>\n",
       "    </tr>\n",
       "    <tr>\n",
       "      <th>1</th>\n",
       "      <td>1743-12-01</td>\n",
       "      <td>NaN</td>\n",
       "      <td>NaN</td>\n",
       "      <td>Åland</td>\n",
       "    </tr>\n",
       "    <tr>\n",
       "      <th>2</th>\n",
       "      <td>1744-01-01</td>\n",
       "      <td>NaN</td>\n",
       "      <td>NaN</td>\n",
       "      <td>Åland</td>\n",
       "    </tr>\n",
       "    <tr>\n",
       "      <th>3</th>\n",
       "      <td>1744-02-01</td>\n",
       "      <td>NaN</td>\n",
       "      <td>NaN</td>\n",
       "      <td>Åland</td>\n",
       "    </tr>\n",
       "    <tr>\n",
       "      <th>4</th>\n",
       "      <td>1744-03-01</td>\n",
       "      <td>NaN</td>\n",
       "      <td>NaN</td>\n",
       "      <td>Åland</td>\n",
       "    </tr>\n",
       "  </tbody>\n",
       "</table>\n",
       "</div>"
      ],
      "text/plain": [
       "           dt  AverageTemperature  AverageTemperatureUncertainty Country\n",
       "0  1743-11-01               4.384                          2.294   Åland\n",
       "1  1743-12-01                 NaN                            NaN   Åland\n",
       "2  1744-01-01                 NaN                            NaN   Åland\n",
       "3  1744-02-01                 NaN                            NaN   Åland\n",
       "4  1744-03-01                 NaN                            NaN   Åland"
      ]
     },
     "execution_count": 2,
     "metadata": {},
     "output_type": "execute_result"
    }
   ],
   "source": [
    "df = pd.read_csv('./GlobalLandTemperaturesByCountry.csv')\n",
    "df.head()"
   ]
  },
  {
   "cell_type": "markdown",
   "id": "cfdcb687",
   "metadata": {},
   "source": [
    "## 1. Análisis exploratorio"
   ]
  },
  {
   "cell_type": "markdown",
   "id": "35f7e4a5",
   "metadata": {},
   "source": [
    "### Descripción del dataset\n",
    "Representa las temperaturas promedio mensuales, desde 1750, para muchos lugares del mundo. El documento de donde se extrajo la información lo puede encontrar en el siguiente vínculo: http://berkeleyearth.org/data/\n",
    "\n",
    "### Detalle de las variables\n",
    "\n",
    "|Variable                      |Detalle|Clasificación|\n",
    "|:-----------------------------|:------|:------------|\n",
    "|dt                            |Date time. Mes y año de la medición|Cualitativa ordinal|\n",
    "|AverageTemperature            |Temperatura promedio en el mes y año indicado por dt|Cuantitativa continua|\n",
    "|AverageTemperatureUncertainty |Incertidumbre de la medición de temperatura|Cuantitativa continua|\n",
    "|Country                       |País dónde se realizó la medición|Cualitativa nominal|\n"
   ]
  },
  {
   "cell_type": "markdown",
   "id": "70d9666a",
   "metadata": {},
   "source": [
    "### Resúmen estadístico del dataset"
   ]
  },
  {
   "cell_type": "code",
   "execution_count": 3,
   "id": "7e784772",
   "metadata": {},
   "outputs": [
    {
     "data": {
      "text/html": [
       "<div>\n",
       "<style scoped>\n",
       "    .dataframe tbody tr th:only-of-type {\n",
       "        vertical-align: middle;\n",
       "    }\n",
       "\n",
       "    .dataframe tbody tr th {\n",
       "        vertical-align: top;\n",
       "    }\n",
       "\n",
       "    .dataframe thead th {\n",
       "        text-align: right;\n",
       "    }\n",
       "</style>\n",
       "<table border=\"1\" class=\"dataframe\">\n",
       "  <thead>\n",
       "    <tr style=\"text-align: right;\">\n",
       "      <th></th>\n",
       "      <th>AverageTemperature</th>\n",
       "      <th>AverageTemperatureUncertainty</th>\n",
       "    </tr>\n",
       "  </thead>\n",
       "  <tbody>\n",
       "    <tr>\n",
       "      <th>count</th>\n",
       "      <td>544811.000000</td>\n",
       "      <td>545550.000000</td>\n",
       "    </tr>\n",
       "    <tr>\n",
       "      <th>mean</th>\n",
       "      <td>17.193354</td>\n",
       "      <td>1.019057</td>\n",
       "    </tr>\n",
       "    <tr>\n",
       "      <th>std</th>\n",
       "      <td>10.953966</td>\n",
       "      <td>1.201930</td>\n",
       "    </tr>\n",
       "    <tr>\n",
       "      <th>min</th>\n",
       "      <td>-37.658000</td>\n",
       "      <td>0.052000</td>\n",
       "    </tr>\n",
       "    <tr>\n",
       "      <th>25%</th>\n",
       "      <td>10.025000</td>\n",
       "      <td>0.323000</td>\n",
       "    </tr>\n",
       "    <tr>\n",
       "      <th>50%</th>\n",
       "      <td>20.901000</td>\n",
       "      <td>0.571000</td>\n",
       "    </tr>\n",
       "    <tr>\n",
       "      <th>75%</th>\n",
       "      <td>25.814000</td>\n",
       "      <td>1.206000</td>\n",
       "    </tr>\n",
       "    <tr>\n",
       "      <th>max</th>\n",
       "      <td>38.842000</td>\n",
       "      <td>15.003000</td>\n",
       "    </tr>\n",
       "  </tbody>\n",
       "</table>\n",
       "</div>"
      ],
      "text/plain": [
       "       AverageTemperature  AverageTemperatureUncertainty\n",
       "count       544811.000000                  545550.000000\n",
       "mean            17.193354                       1.019057\n",
       "std             10.953966                       1.201930\n",
       "min            -37.658000                       0.052000\n",
       "25%             10.025000                       0.323000\n",
       "50%             20.901000                       0.571000\n",
       "75%             25.814000                       1.206000\n",
       "max             38.842000                      15.003000"
      ]
     },
     "execution_count": 3,
     "metadata": {},
     "output_type": "execute_result"
    }
   ],
   "source": [
    "df.describe()"
   ]
  },
  {
   "cell_type": "markdown",
   "id": "e806da0d",
   "metadata": {},
   "source": [
    "### Limpieza de datos\n",
    "#### Datos incompletos\n",
    "Las series de datos que no tienen valor para la variable `AverageTemperature` no aportan información para el análisis, por lo cual se descartan."
   ]
  },
  {
   "cell_type": "code",
   "execution_count": 4,
   "id": "f1fe22d1",
   "metadata": {},
   "outputs": [
    {
     "data": {
      "text/plain": [
       "32651"
      ]
     },
     "execution_count": 4,
     "metadata": {},
     "output_type": "execute_result"
    }
   ],
   "source": [
    "df['AverageTemperature'].isnull().sum()"
   ]
  },
  {
   "cell_type": "code",
   "execution_count": 5,
   "id": "714ea955",
   "metadata": {},
   "outputs": [
    {
     "data": {
      "text/plain": [
       "0"
      ]
     },
     "execution_count": 5,
     "metadata": {},
     "output_type": "execute_result"
    }
   ],
   "source": [
    "df = df.dropna(subset=['AverageTemperature'])\n",
    "df['AverageTemperature'].isnull().sum()"
   ]
  },
  {
   "cell_type": "markdown",
   "id": "3e72c178",
   "metadata": {},
   "source": [
    "A fines prácticos se aproximará a 0 la incertidumbre (`AverageTemperatureUncertainty`) de las filas que no tengan información de la misma."
   ]
  },
  {
   "cell_type": "code",
   "execution_count": 6,
   "id": "ba25b8d4",
   "metadata": {},
   "outputs": [
    {
     "data": {
      "text/plain": [
       "0"
      ]
     },
     "execution_count": 6,
     "metadata": {},
     "output_type": "execute_result"
    }
   ],
   "source": [
    "df['AverageTemperatureUncertainty'] = df['AverageTemperatureUncertainty'].fillna(0)\n",
    "df['AverageTemperatureUncertainty'].isnull().sum()"
   ]
  },
  {
   "cell_type": "markdown",
   "id": "f0d0ab76",
   "metadata": {},
   "source": [
    "#### Datos atípicos\n",
    "Se analizan los datos atípicos de la variable `AverageTemperature`."
   ]
  },
  {
   "cell_type": "code",
   "execution_count": 7,
   "id": "dea28522",
   "metadata": {},
   "outputs": [
    {
     "data": {
      "image/png": "[encoded data removed]",
      "text/plain": [
       "<Figure size 432x288 with 1 Axes>"
      ]
     },
     "metadata": {
      "needs_background": "light"
     },
     "output_type": "display_data"
    }
   ],
   "source": [
    "plt.boxplot(df['AverageTemperature'])\n",
    "plt.title('AverageTemperature')\n",
    "plt.show()"
   ]
  },
  {
   "cell_type": "code",
   "execution_count": 8,
   "id": "b59f211a",
   "metadata": {},
   "outputs": [],
   "source": [
    "Q1 = df['AverageTemperature'].quantile(0.25)\n",
    "Q3 = df['AverageTemperature'].quantile(0.75)\n",
    "IQR = Q3 - Q1\n",
    "\n",
    "inferior = df[df['AverageTemperature'] < (Q1 - 1.5 * IQR)]\n",
    "superior = df[df['AverageTemperature'] > (Q3 + 1.5 * IQR)]"
   ]
  },
  {
   "cell_type": "code",
   "execution_count": 9,
   "id": "d467cfdc",
   "metadata": {},
   "outputs": [
    {
     "data": {
      "text/plain": [
       "6438"
      ]
     },
     "execution_count": 9,
     "metadata": {},
     "output_type": "execute_result"
    }
   ],
   "source": [
    "len(inferior)"
   ]
  },
  {
   "cell_type": "code",
   "execution_count": 10,
   "id": "5e9d18a7",
   "metadata": {},
   "outputs": [
    {
     "data": {
      "text/plain": [
       "0"
      ]
     },
     "execution_count": 10,
     "metadata": {},
     "output_type": "execute_result"
    }
   ],
   "source": [
    "len(superior)"
   ]
  },
  {
   "cell_type": "markdown",
   "id": "c7fffbf1",
   "metadata": {},
   "source": [
    "Dada la naturaleza del dataset y al ser medidas climáticas, se espera que los datos atípicos sí aporten información significatica al análisis, por lo que no hay necesidad de eliminarlos."
   ]
  },
  {
   "cell_type": "markdown",
   "id": "5a32fbf5",
   "metadata": {},
   "source": [
    "Se analizan los datos atípicos de la variable `AverageTemperatureUncertainty`."
   ]
  },
  {
   "cell_type": "code",
   "execution_count": 11,
   "id": "ed86af28",
   "metadata": {},
   "outputs": [
    {
     "data": {
      "image/png": "[encoded data removed]",
      "text/plain": [
       "<Figure size 432x288 with 1 Axes>"
      ]
     },
     "metadata": {
      "needs_background": "light"
     },
     "output_type": "display_data"
    }
   ],
   "source": [
    "plt.boxplot(df['AverageTemperatureUncertainty'])\n",
    "plt.title('AverageTemperatureUncertainty')\n",
    "plt.show()"
   ]
  },
  {
   "cell_type": "code",
   "execution_count": 12,
   "id": "f1ad778b",
   "metadata": {},
   "outputs": [],
   "source": [
    "Q1 = df['AverageTemperatureUncertainty'].quantile(0.25)\n",
    "Q3 = df['AverageTemperatureUncertainty'].quantile(0.75)\n",
    "IQR = Q3 - Q1\n",
    "\n",
    "inferior = df[df['AverageTemperatureUncertainty'] < (Q1 - 1.5 * IQR)]\n",
    "superior = df[df['AverageTemperatureUncertainty'] > (Q3 + 1.5 * IQR)]"
   ]
  },
  {
   "cell_type": "code",
   "execution_count": 13,
   "id": "6bc42e21",
   "metadata": {},
   "outputs": [
    {
     "data": {
      "text/plain": [
       "0"
      ]
     },
     "execution_count": 13,
     "metadata": {},
     "output_type": "execute_result"
    }
   ],
   "source": [
    "len(inferior)"
   ]
  },
  {
   "cell_type": "code",
   "execution_count": 14,
   "id": "fb974b1e",
   "metadata": {},
   "outputs": [
    {
     "data": {
      "text/plain": [
       "48207"
      ]
     },
     "execution_count": 14,
     "metadata": {},
     "output_type": "execute_result"
    }
   ],
   "source": [
    "len(superior)"
   ]
  },
  {
   "cell_type": "markdown",
   "id": "3c7e4cde",
   "metadata": {},
   "source": [
    "Para el caso de esta variable, si se hace notar la importancia de eliminar los datos atípicos, pues el extremo superior indica que hay varios datos con mediciones muy imprecisas, los cuales pueden distorsionar el análisis."
   ]
  },
  {
   "cell_type": "code",
   "execution_count": 15,
   "id": "c061ad57",
   "metadata": {},
   "outputs": [
    {
     "data": {
      "image/png": "[encoded data removed]",
      "text/plain": [
       "<Figure size 432x288 with 1 Axes>"
      ]
     },
     "metadata": {
      "needs_background": "light"
     },
     "output_type": "display_data"
    }
   ],
   "source": [
    "df.drop(superior.index, inplace=True)\n",
    "    \n",
    "plt.boxplot(df['AverageTemperatureUncertainty'])\n",
    "plt.title('AverageTemperatureUncertainty')\n",
    "plt.show()"
   ]
  },
  {
   "cell_type": "markdown",
   "id": "ee22ea27",
   "metadata": {},
   "source": [
    "### Comportamiento de datos"
   ]
  },
  {
   "cell_type": "markdown",
   "id": "3b655693",
   "metadata": {},
   "source": [
    "#### Normalidad de los datos"
   ]
  },
  {
   "cell_type": "code",
   "execution_count": 16,
   "id": "d1d54236",
   "metadata": {},
   "outputs": [],
   "source": [
    "def show_normality(data):\n",
    "    mu, std = norm.fit(data)\n",
    "    plt.hist(data, bins=25, density=True, alpha=0.6, color='b')\n",
    "  \n",
    "    xmin, xmax = plt.xlim()\n",
    "    x = np.linspace(xmin, xmax, 100)\n",
    "    p = norm.pdf(x, mu, std)\n",
    "\n",
    "    plt.plot(x, p, 'k', linewidth=2)\n",
    "    title = \"Fit Values: {:.2f} and {:.2f}\".format(mu, std)\n",
    "    plt.title(title)\n",
    "    \n",
    "    plt.show()\n",
    "    \n",
    "    kurtosis = data.kurtosis()\n",
    "    skew = data.skew()\n",
    "    print('Kurtosis: ', kurtosis)\n",
    "    print('Sesgo: ', skew)"
   ]
  },
  {
   "cell_type": "code",
   "execution_count": 17,
   "id": "e9bac441",
   "metadata": {},
   "outputs": [
    {
     "data": {
      "image/png": "[encoded data removed]",
      "text/plain": [
       "<Figure size 432x288 with 1 Axes>"
      ]
     },
     "metadata": {
      "needs_background": "light"
     },
     "output_type": "display_data"
    },
    {
     "name": "stdout",
     "output_type": "stream",
     "text": [
      "Kurtosis:  1.3855022552328835\n",
      "Sesgo:  -1.2227423931132673\n"
     ]
    }
   ],
   "source": [
    "show_normality(df['AverageTemperature'])"
   ]
  },
  {
   "cell_type": "markdown",
   "id": "5b851c9e",
   "metadata": {},
   "source": [
    "No se puede aproximar la variable de `AverageTemperature` a una distribución normal."
   ]
  },
  {
   "cell_type": "code",
   "execution_count": 18,
   "id": "38f54dcb",
   "metadata": {},
   "outputs": [
    {
     "data": {
      "image/png": "[encoded data removed]",
      "text/plain": [
       "<Figure size 432x288 with 1 Axes>"
      ]
     },
     "metadata": {
      "needs_background": "light"
     },
     "output_type": "display_data"
    },
    {
     "name": "stdout",
     "output_type": "stream",
     "text": [
      "Kurtosis:  1.0329705116182009\n",
      "Sesgo:  1.3416322002714294\n"
     ]
    }
   ],
   "source": [
    "show_normality(df['AverageTemperatureUncertainty'])"
   ]
  },
  {
   "cell_type": "markdown",
   "id": "66c24d80",
   "metadata": {},
   "source": [
    "La variable de `AverageTemperatureUncertainty` tampoco cumple para una distribución normal."
   ]
  },
  {
   "cell_type": "markdown",
   "id": "87abb6c5",
   "metadata": {},
   "source": [
    "#### Correlación de los datos"
   ]
  },
  {
   "cell_type": "code",
   "execution_count": 19,
   "id": "3c49b7dc",
   "metadata": {},
   "outputs": [
    {
     "data": {
      "text/plain": [
       "<seaborn.axisgrid.PairGrid at 0x7fc2358d3cd0>"
      ]
     },
     "execution_count": 19,
     "metadata": {},
     "output_type": "execute_result"
    },
    {
     "data": {
      "image/png": "[encoded data removed]",
      "text/plain": [
       "<Figure size 360x360 with 6 Axes>"
      ]
     },
     "metadata": {
      "needs_background": "light"
     },
     "output_type": "display_data"
    }
   ],
   "source": [
    "sns.pairplot(data=df)"
   ]
  },
  {
   "cell_type": "code",
   "execution_count": 22,
   "id": "7ad0dfa2",
   "metadata": {},
   "outputs": [
    {
     "data": {
      "text/plain": [
       "<AxesSubplot:>"
      ]
     },
     "execution_count": 22,
     "metadata": {},
     "output_type": "execute_result"
    },
    {
     "data": {
      "image/png": "[encoded data removed]",
      "text/plain": [
       "<Figure size 432x288 with 2 Axes>"
      ]
     },
     "metadata": {
      "needs_background": "light"
     },
     "output_type": "display_data"
    }
   ],
   "source": [
    "correlacion = df[['AverageTemperature', 'AverageTemperatureUncertainty']].corr()\n",
    "fig, axis = plt.subplots()\n",
    "sns.heatmap(correlacion, xticklabels=correlacion.columns, yticklabels=correlacion.columns, annot=True, ax=axis)"
   ]
  },
  {
   "cell_type": "markdown",
   "id": "28d52155",
   "metadata": {},
   "source": [
    "Se puede observar que no hay correlación entre las variables númericas estudiadas."
   ]
  },
  {
   "cell_type": "markdown",
   "id": "4caaa68b",
   "metadata": {},
   "source": [
    "#### Lugares con temperaturas más extremas"
   ]
  },
  {
   "cell_type": "code",
   "execution_count": 23,
   "id": "4f9d89d7",
   "metadata": {},
   "outputs": [],
   "source": [
    "avg_temp_by_country = df.groupby('Country').mean()\\\n",
    "    .sort_values(by=['AverageTemperature'])"
   ]
  },
  {
   "cell_type": "code",
   "execution_count": 24,
   "id": "cfb7b218",
   "metadata": {},
   "outputs": [
    {
     "data": {
      "image/png": "[encoded data removed]",
      "text/plain": [
       "<Figure size 2880x864 with 1 Axes>"
      ]
     },
     "metadata": {
      "needs_background": "light"
     },
     "output_type": "display_data"
    }
   ],
   "source": [
    "plt.figure(figsize=(40,12))\n",
    "plt.bar(\n",
    "    avg_temp_by_country.index,\n",
    "    avg_temp_by_country['AverageTemperature']\n",
    ")\n",
    "plt.title('Temperatura promedio de cada país', size=20)\n",
    "plt.xlabel('País', size=20)\n",
    "plt.ylabel('Temperatura promedio', size=20)\n",
    "plt.show()"
   ]
  },
  {
   "cell_type": "markdown",
   "id": "b238c663",
   "metadata": {},
   "source": [
    "Top 5 lugares con temperaturas más bajas:"
   ]
  },
  {
   "cell_type": "code",
   "execution_count": 25,
   "id": "e47e20aa",
   "metadata": {
    "scrolled": true
   },
   "outputs": [
    {
     "data": {
      "text/html": [
       "<div>\n",
       "<style scoped>\n",
       "    .dataframe tbody tr th:only-of-type {\n",
       "        vertical-align: middle;\n",
       "    }\n",
       "\n",
       "    .dataframe tbody tr th {\n",
       "        vertical-align: top;\n",
       "    }\n",
       "\n",
       "    .dataframe thead th {\n",
       "        text-align: right;\n",
       "    }\n",
       "</style>\n",
       "<table border=\"1\" class=\"dataframe\">\n",
       "  <thead>\n",
       "    <tr style=\"text-align: right;\">\n",
       "      <th></th>\n",
       "      <th>AverageTemperature</th>\n",
       "      <th>AverageTemperatureUncertainty</th>\n",
       "    </tr>\n",
       "    <tr>\n",
       "      <th>Country</th>\n",
       "      <th></th>\n",
       "      <th></th>\n",
       "    </tr>\n",
       "  </thead>\n",
       "  <tbody>\n",
       "    <tr>\n",
       "      <th>Greenland</th>\n",
       "      <td>-17.382228</td>\n",
       "      <td>1.251991</td>\n",
       "    </tr>\n",
       "    <tr>\n",
       "      <th>Denmark</th>\n",
       "      <td>-16.928744</td>\n",
       "      <td>1.227067</td>\n",
       "    </tr>\n",
       "    <tr>\n",
       "      <th>Svalbard And Jan Mayen</th>\n",
       "      <td>-6.653556</td>\n",
       "      <td>1.072731</td>\n",
       "    </tr>\n",
       "    <tr>\n",
       "      <th>Russia</th>\n",
       "      <td>-5.179728</td>\n",
       "      <td>0.890896</td>\n",
       "    </tr>\n",
       "    <tr>\n",
       "      <th>Canada</th>\n",
       "      <td>-4.682512</td>\n",
       "      <td>0.943881</td>\n",
       "    </tr>\n",
       "  </tbody>\n",
       "</table>\n",
       "</div>"
      ],
      "text/plain": [
       "                        AverageTemperature  AverageTemperatureUncertainty\n",
       "Country                                                                  \n",
       "Greenland                       -17.382228                       1.251991\n",
       "Denmark                         -16.928744                       1.227067\n",
       "Svalbard And Jan Mayen           -6.653556                       1.072731\n",
       "Russia                           -5.179728                       0.890896\n",
       "Canada                           -4.682512                       0.943881"
      ]
     },
     "execution_count": 25,
     "metadata": {},
     "output_type": "execute_result"
    }
   ],
   "source": [
    "avg_temp_by_country.head()"
   ]
  },
  {
   "cell_type": "markdown",
   "id": "c256a8db",
   "metadata": {},
   "source": [
    "Top 5 lugares con temperaturas más altas:"
   ]
  },
  {
   "cell_type": "code",
   "execution_count": 26,
   "id": "1d86b16e",
   "metadata": {},
   "outputs": [
    {
     "data": {
      "text/html": [
       "<div>\n",
       "<style scoped>\n",
       "    .dataframe tbody tr th:only-of-type {\n",
       "        vertical-align: middle;\n",
       "    }\n",
       "\n",
       "    .dataframe tbody tr th {\n",
       "        vertical-align: top;\n",
       "    }\n",
       "\n",
       "    .dataframe thead th {\n",
       "        text-align: right;\n",
       "    }\n",
       "</style>\n",
       "<table border=\"1\" class=\"dataframe\">\n",
       "  <thead>\n",
       "    <tr style=\"text-align: right;\">\n",
       "      <th></th>\n",
       "      <th>AverageTemperature</th>\n",
       "      <th>AverageTemperatureUncertainty</th>\n",
       "    </tr>\n",
       "    <tr>\n",
       "      <th>Country</th>\n",
       "      <th></th>\n",
       "      <th></th>\n",
       "    </tr>\n",
       "  </thead>\n",
       "  <tbody>\n",
       "    <tr>\n",
       "      <th>Aruba</th>\n",
       "      <td>27.924171</td>\n",
       "      <td>0.633795</td>\n",
       "    </tr>\n",
       "    <tr>\n",
       "      <th>Senegal</th>\n",
       "      <td>27.984304</td>\n",
       "      <td>0.672733</td>\n",
       "    </tr>\n",
       "    <tr>\n",
       "      <th>Burkina Faso</th>\n",
       "      <td>28.085516</td>\n",
       "      <td>0.694007</td>\n",
       "    </tr>\n",
       "    <tr>\n",
       "      <th>Mali</th>\n",
       "      <td>28.444861</td>\n",
       "      <td>0.772745</td>\n",
       "    </tr>\n",
       "    <tr>\n",
       "      <th>Djibouti</th>\n",
       "      <td>28.815201</td>\n",
       "      <td>0.860161</td>\n",
       "    </tr>\n",
       "  </tbody>\n",
       "</table>\n",
       "</div>"
      ],
      "text/plain": [
       "              AverageTemperature  AverageTemperatureUncertainty\n",
       "Country                                                        \n",
       "Aruba                  27.924171                       0.633795\n",
       "Senegal                27.984304                       0.672733\n",
       "Burkina Faso           28.085516                       0.694007\n",
       "Mali                   28.444861                       0.772745\n",
       "Djibouti               28.815201                       0.860161"
      ]
     },
     "execution_count": 26,
     "metadata": {},
     "output_type": "execute_result"
    }
   ],
   "source": [
    "avg_temp_by_country.tail()"
   ]
  },
  {
   "cell_type": "markdown",
   "id": "0db08432",
   "metadata": {},
   "source": [
    "De lo más destacable en este punto es que los países más calurosos no difieren de forma extrema a la temperatura promedio del resto de países. Por el otro lado, los países más frios son más escasos, y con temperaturas más extremas en comparación a los demás."
   ]
  },
  {
   "cell_type": "markdown",
   "id": "6519f076",
   "metadata": {},
   "source": [
    "## 2. Serie univariante por la variable AverageTemperature"
   ]
  },
  {
   "cell_type": "markdown",
   "id": "a78daeb3",
   "metadata": {},
   "source": [
    "### a. Especifique Inicio, fin, y frecuencia."
   ]
  },
  {
   "cell_type": "markdown",
   "id": "3ce778e6",
   "metadata": {},
   "source": [
    "- **Inicio**: Año 2000, debido a que conocemos que en los últimos años la temperatura ha incremendado a un ritmo sin precedentes, por lo que la información de años anteriores ya no resulta muy útil.\n",
    "- **Fin**: 2013 (año más reciente con datos disponibles)\n",
    "- **Frecuencia**: Mensual"
   ]
  },
  {
   "cell_type": "code",
   "execution_count": 27,
   "id": "e5ba3c56",
   "metadata": {},
   "outputs": [
    {
     "data": {
      "text/html": [
       "<div>\n",
       "<style scoped>\n",
       "    .dataframe tbody tr th:only-of-type {\n",
       "        vertical-align: middle;\n",
       "    }\n",
       "\n",
       "    .dataframe tbody tr th {\n",
       "        vertical-align: top;\n",
       "    }\n",
       "\n",
       "    .dataframe thead th {\n",
       "        text-align: right;\n",
       "    }\n",
       "</style>\n",
       "<table border=\"1\" class=\"dataframe\">\n",
       "  <thead>\n",
       "    <tr style=\"text-align: right;\">\n",
       "      <th></th>\n",
       "      <th>dt</th>\n",
       "      <th>AverageTemperature</th>\n",
       "    </tr>\n",
       "  </thead>\n",
       "  <tbody>\n",
       "    <tr>\n",
       "      <th>3074</th>\n",
       "      <td>2000-01-01</td>\n",
       "      <td>0.197</td>\n",
       "    </tr>\n",
       "    <tr>\n",
       "      <th>3075</th>\n",
       "      <td>2000-02-01</td>\n",
       "      <td>-0.023</td>\n",
       "    </tr>\n",
       "    <tr>\n",
       "      <th>3076</th>\n",
       "      <td>2000-03-01</td>\n",
       "      <td>0.615</td>\n",
       "    </tr>\n",
       "    <tr>\n",
       "      <th>3077</th>\n",
       "      <td>2000-04-01</td>\n",
       "      <td>4.124</td>\n",
       "    </tr>\n",
       "    <tr>\n",
       "      <th>3078</th>\n",
       "      <td>2000-05-01</td>\n",
       "      <td>8.557</td>\n",
       "    </tr>\n",
       "    <tr>\n",
       "      <th>...</th>\n",
       "      <td>...</td>\n",
       "      <td>...</td>\n",
       "    </tr>\n",
       "    <tr>\n",
       "      <th>577456</th>\n",
       "      <td>2013-04-01</td>\n",
       "      <td>21.142</td>\n",
       "    </tr>\n",
       "    <tr>\n",
       "      <th>577457</th>\n",
       "      <td>2013-05-01</td>\n",
       "      <td>19.059</td>\n",
       "    </tr>\n",
       "    <tr>\n",
       "      <th>577458</th>\n",
       "      <td>2013-06-01</td>\n",
       "      <td>17.613</td>\n",
       "    </tr>\n",
       "    <tr>\n",
       "      <th>577459</th>\n",
       "      <td>2013-07-01</td>\n",
       "      <td>17.000</td>\n",
       "    </tr>\n",
       "    <tr>\n",
       "      <th>577460</th>\n",
       "      <td>2013-08-01</td>\n",
       "      <td>19.759</td>\n",
       "    </tr>\n",
       "  </tbody>\n",
       "</table>\n",
       "<p>39688 rows × 2 columns</p>\n",
       "</div>"
      ],
      "text/plain": [
       "                dt  AverageTemperature\n",
       "3074    2000-01-01               0.197\n",
       "3075    2000-02-01              -0.023\n",
       "3076    2000-03-01               0.615\n",
       "3077    2000-04-01               4.124\n",
       "3078    2000-05-01               8.557\n",
       "...            ...                 ...\n",
       "577456  2013-04-01              21.142\n",
       "577457  2013-05-01              19.059\n",
       "577458  2013-06-01              17.613\n",
       "577459  2013-07-01              17.000\n",
       "577460  2013-08-01              19.759\n",
       "\n",
       "[39688 rows x 2 columns]"
      ]
     },
     "execution_count": 27,
     "metadata": {},
     "output_type": "execute_result"
    }
   ],
   "source": [
    "temp_serie = df[['dt', 'AverageTemperature']]\\\n",
    "    .loc[df['dt'] > '2000']\n",
    "temp_serie"
   ]
  },
  {
   "cell_type": "markdown",
   "id": "1a89118f",
   "metadata": {},
   "source": [
    "### b. Haga un gráfico de la serie y explique qué información puede obtener a primera vista."
   ]
  },
  {
   "cell_type": "code",
   "execution_count": 28,
   "id": "3266f98a",
   "metadata": {},
   "outputs": [],
   "source": [
    "temp_serie = temp_serie[['dt', 'AverageTemperature']].groupby('dt').mean()\\\n",
    "    .sort_values(by=['AverageTemperature'])"
   ]
  },
  {
   "cell_type": "code",
   "execution_count": 29,
   "id": "d858db5f",
   "metadata": {},
   "outputs": [
    {
     "data": {
      "image/png": "[encoded data removed]",
      "text/plain": [
       "<Figure size 432x288 with 1 Axes>"
      ]
     },
     "metadata": {
      "needs_background": "light"
     },
     "output_type": "display_data"
    }
   ],
   "source": [
    "plt.plot(\n",
    "    temp_serie.index,\n",
    "    temp_serie['AverageTemperature']\n",
    ")\n",
    "plt.title('Temperatura promedio a nivel mundial en función del tiempo', size=15)\n",
    "plt.xlabel('Tiempo')\n",
    "plt.ylabel('Temperatura promedio', size=15)\n",
    "plt.xticks(\n",
    "    ['2000-01-01', '2003-01-01', '2013-01-01', '2013-04-01', '2013-08-01', '2013-12-01'],\n",
    "    rotation=90\n",
    ")\n",
    "plt.show()"
   ]
  },
  {
   "cell_type": "markdown",
   "id": "b06f3890",
   "metadata": {},
   "source": [
    "Hay dos hallazgos notables, en primer lugar el se ve un aumento pronunciado de la temperatura global con el paso del tiempo. En segundo lugar, se observa que en los últimos años la temperatura ha aumentado desmesuradamente, con un comportamiento que parece ser incluso exponencial."
   ]
  },
  {
   "cell_type": "markdown",
   "id": "09c49a95",
   "metadata": {},
   "source": [
    "### c. Descomponga la serie en sus componentes. Teniendo en cuenta el diagrama de la serie y sus componentes discuta si es posible hablar de estacionalidad."
   ]
  },
  {
   "cell_type": "markdown",
   "id": "aa339acf",
   "metadata": {},
   "source": [
    "No se puede observar estacionalidad, pues no se identifican patrones que se repitan año tras año. De los componentes que se observan, se puede notar que la serie de datos tiene una tendencia a crecer."
   ]
  },
  {
   "cell_type": "markdown",
   "id": "9a784b27",
   "metadata": {},
   "source": [
    "### d. Determine si es necesario transformar la serie. Explique."
   ]
  },
  {
   "cell_type": "markdown",
   "id": "a5faf63e",
   "metadata": {},
   "source": [
    "Dado que no se encontró estacionalidad en los datos, es válido suponer que es necesario transformar la serie, sin embargo, dadas las suposiciones del análisis exploratorio y conocimientos generales, se sabe que la temperatura global en los últimos años ha aumentado significativamente cambiando patrones naturales habituales. Por lo tanto, la serie de datos actual cumple con dichas suposiciones,por lo que no requiere transformación."
   ]
  },
  {
   "cell_type": "markdown",
   "id": "62d192c7",
   "metadata": {},
   "source": [
    "### e. Una   vez   analizada   la   serie,   elija   los  parámetros   p,   q   y   d   del   modelo   ARIMA   o SARIMA "
   ]
  },
  {
   "cell_type": "code",
   "execution_count": 30,
   "id": "2f79bc8e",
   "metadata": {},
   "outputs": [],
   "source": [
    "p = 1\n",
    "q = 1\n",
    "d = 0 # ya es estacionaria"
   ]
  },
  {
   "cell_type": "markdown",
   "id": "25b6b5d4",
   "metadata": {},
   "source": [
    "### f. Haga varios modelos SARIMA, y diga cuál es el mejor de ellos para estimar los datos de la serie."
   ]
  },
  {
   "cell_type": "markdown",
   "id": "e3950dd7",
   "metadata": {},
   "source": [
    "Se utilizará ARIMA dado que no se encontró estacionalidad en los datos."
   ]
  },
  {
   "cell_type": "code",
   "execution_count": 55,
   "id": "ac5a9e13",
   "metadata": {},
   "outputs": [
    {
     "name": "stdout",
     "output_type": "stream",
     "text": [
      "Tamaño Entrenamiento 132\n",
      "Tamaño Prueba 33\n",
      "Encontrando la mejor solución para promedio\n",
      " > Modelo[1, 'mediana'] 0.227 > Modelo[1, 'promedio'] 0.227 > Modelo[2, 'mediana'] 0.235 > Modelo[2, 'promedio'] 0.235 > Modelo[3, 'mediana'] 0.246 > Modelo[3, 'promedio'] 0.246\n",
      "\n",
      "\n",
      "\n",
      " > Modelo[4, 'promedio'] 0.255\n",
      " > Modelo[5, 'mediana'] 0.265 > Modelo[4, 'mediana'] 0.255 > Modelo[6, 'mediana'] 0.274 > Modelo[7, 'mediana'] 0.284\n",
      " > Modelo[5, 'promedio'] 0.265\n",
      " > Modelo[6, 'promedio'] 0.274\n",
      " > Modelo[7, 'promedio'] 0.284\n",
      "\n",
      "\n",
      " > Modelo[8, 'mediana'] 0.295\n",
      "\n",
      "\n",
      " > Modelo[8, 'promedio'] 0.295 > Modelo[9, 'promedio'] 0.307\n",
      " > Modelo[9, 'mediana'] 0.307\n",
      " > Modelo[10, 'mediana'] 0.319\n",
      "\n",
      "\n",
      " > Modelo[11, 'mediana'] 0.332 > Modelo[12, 'promedio'] 0.340 > Modelo[11, 'promedio'] 0.332 > Modelo[12, 'mediana'] 0.340\n",
      "\n",
      " > Modelo[13, 'mediana'] 0.349\n",
      "\n",
      " > Modelo[14, 'mediana'] 0.359 > Modelo[15, 'mediana'] 0.370 > Modelo[16, 'mediana'] 0.381\n",
      " > Modelo[10, 'promedio'] 0.319\n",
      " > Modelo[17, 'mediana'] 0.394\n",
      " > Modelo[19, 'mediana'] 0.420 > Modelo[20, 'mediana'] 0.433\n",
      "\n",
      " > Modelo[18, 'mediana'] 0.407\n",
      "\n",
      " > Modelo[21, 'mediana'] 0.447\n",
      "\n",
      "\n",
      "\n",
      " > Modelo[22, 'mediana'] 0.461 > Modelo[23, 'mediana'] 0.475 > Modelo[16, 'promedio'] 0.381 > Modelo[15, 'promedio'] 0.370 > Modelo[20, 'promedio'] 0.433\n",
      "\n",
      "\n",
      " > Modelo[17, 'promedio'] 0.394 > Modelo[18, 'promedio'] 0.407\n",
      " > Modelo[14, 'promedio'] 0.359 > Modelo[26, 'mediana'] 0.524\n",
      " > Modelo[25, 'mediana'] 0.506 > Modelo[24, 'mediana'] 0.490\n",
      " > Modelo[13, 'promedio'] 0.349\n",
      "\n",
      " > Modelo[21, 'promedio'] 0.447 > Modelo[27, 'mediana'] 0.543 > Modelo[19, 'promedio'] 0.420 > Modelo[22, 'promedio'] 0.461\n",
      "\n",
      "\n",
      " > Modelo[23, 'promedio'] 0.475 > Modelo[28, 'mediana'] 0.559 > Modelo[29, 'mediana'] 0.576\n",
      "\n",
      "\n",
      "\n",
      " > Modelo[31, 'mediana'] 0.612\n",
      "\n",
      "\n",
      " > Modelo[27, 'promedio'] 0.543 > Modelo[30, 'mediana'] 0.594\n",
      " > Modelo[26, 'promedio'] 0.524 > Modelo[25, 'promedio'] 0.506\n",
      " > Modelo[36, 'mediana'] 0.708\n",
      " > Modelo[28, 'promedio'] 0.559 > Modelo[24, 'promedio'] 0.490\n",
      " > Modelo[32, 'mediana'] 0.630\n",
      " > Modelo[29, 'promedio'] 0.576 > Modelo[33, 'mediana'] 0.649\n",
      "\n",
      "\n",
      "\n",
      " > Modelo[34, 'mediana'] 0.668 > Modelo[30, 'promedio'] 0.594 > Modelo[35, 'mediana'] 0.688\n",
      "\n",
      " > Modelo[31, 'promedio'] 0.612 > Modelo[37, 'mediana'] 0.729\n",
      "\n",
      " > Modelo[39, 'mediana'] 0.768\n",
      " > Modelo[41, 'mediana'] 0.809\n",
      "\n",
      " > Modelo[35, 'promedio'] 0.688\n",
      " > Modelo[32, 'promedio'] 0.630 > Modelo[36, 'promedio'] 0.708\n",
      " > Modelo[45, 'mediana'] 0.892 > Modelo[43, 'mediana'] 0.850 > Modelo[47, 'mediana'] 0.934\n",
      "\n",
      "\n",
      " > Modelo[41, 'promedio'] 0.809 > Modelo[49, 'mediana'] 0.976 > Modelo[37, 'promedio'] 0.729\n",
      "\n",
      "\n",
      "\n",
      "\n",
      " > Modelo[51, 'mediana'] 1.019 > Modelo[34, 'promedio'] 0.668 > Modelo[39, 'promedio'] 0.768 > Modelo[33, 'promedio'] 0.649 > Modelo[43, 'promedio'] 0.850 > Modelo[49, 'promedio'] 0.976\n",
      "\n",
      " > Modelo[53, 'mediana'] 1.071\n",
      "\n",
      " > Modelo[55, 'mediana'] 1.115\n",
      "\n",
      "\n",
      " > Modelo[38, 'mediana'] 0.748 > Modelo[45, 'promedio'] 0.892\n",
      " > Modelo[51, 'promedio'] 1.019 > Modelo[44, 'mediana'] 0.871 > Modelo[40, 'mediana'] 0.788\n",
      " > Modelo[57, 'mediana'] 1.157\n",
      "\n",
      " > Modelo[55, 'promedio'] 1.115\n",
      "\n",
      "\n",
      " > Modelo[50, 'mediana'] 0.997 > Modelo[53, 'promedio'] 1.071 > Modelo[47, 'promedio'] 0.934\n",
      " > Modelo[40, 'promedio'] 0.788\n",
      "\n",
      " > Modelo[38, 'promedio'] 0.748\n",
      " > Modelo[59, 'mediana'] 1.200\n",
      "\n",
      "\n",
      " > Modelo[57, 'promedio'] 1.157 > Modelo[56, 'mediana'] 1.136\n",
      "\n",
      " > Modelo[42, 'mediana'] 0.829 > Modelo[61, 'mediana'] 1.240 > Modelo[59, 'promedio'] 1.200 > Modelo[63, 'mediana'] 1.283 > Modelo[48, 'mediana'] 0.955\n",
      " > Modelo[54, 'mediana'] 1.093 > Modelo[52, 'mediana'] 1.045 > Modelo[46, 'mediana'] 0.913\n",
      " > Modelo[44, 'promedio'] 0.871\n",
      "\n",
      " > Modelo[58, 'mediana'] 1.178\n",
      "\n",
      "\n",
      "\n",
      " > Modelo[50, 'promedio'] 0.997\n",
      "\n",
      " > Modelo[56, 'promedio'] 1.136 > Modelo[46, 'promedio'] 0.913 > Modelo[52, 'promedio'] 1.045\n",
      "\n",
      " > Modelo[65, 'mediana'] 1.322 > Modelo[58, 'promedio'] 1.178\n",
      "\n",
      "\n",
      " > Modelo[60, 'promedio'] 1.220\n",
      " > Modelo[54, 'promedio'] 1.093 > Modelo[42, 'promedio'] 0.829\n",
      "\n",
      "\n",
      " > Modelo[48, 'promedio'] 0.955 > Modelo[63, 'promedio'] 1.283\n",
      " > Modelo[65, 'promedio'] 1.322 > Modelo[61, 'promedio'] 1.240 > Modelo[69, 'mediana'] 1.402\n",
      "\n",
      " > Modelo[71, 'mediana'] 1.442 > Modelo[73, 'mediana'] 1.495 > Modelo[60, 'mediana'] 1.220\n",
      " > Modelo[67, 'mediana'] 1.363 > Modelo[75, 'mediana'] 1.564\n",
      "\n",
      " > Modelo[77, 'mediana'] 1.639 > Modelo[66, 'mediana'] 1.343\n",
      "\n",
      "\n",
      "\n",
      " > Modelo[79, 'mediana'] 1.723 > Modelo[64, 'mediana'] 1.303\n",
      " > Modelo[69, 'promedio'] 1.402 > Modelo[81, 'mediana'] 1.802\n",
      "\n",
      "\n",
      "\n",
      "\n",
      "\n",
      " > Modelo[73, 'promedio'] 1.495 > Modelo[71, 'promedio'] 1.442 > Modelo[77, 'promedio'] 1.639 > Modelo[79, 'promedio'] 1.723\n",
      " > Modelo[66, 'promedio'] 1.343\n",
      "\n",
      " > Modelo[75, 'promedio'] 1.564 > Modelo[62, 'mediana'] 1.262\n",
      " > Modelo[64, 'promedio'] 1.303 > Modelo[67, 'promedio'] 1.363 > Modelo[70, 'mediana'] 1.422 > Modelo[83, 'mediana'] 1.878\n",
      "\n",
      "\n",
      "\n",
      "\n",
      " > Modelo[80, 'mediana'] 1.762\n",
      " > Modelo[81, 'promedio'] 1.802\n",
      "\n",
      " > Modelo[68, 'mediana'] 1.382 > Modelo[85, 'mediana'] 1.957 > Modelo[72, 'mediana'] 1.468 > Modelo[89, 'mediana'] 2.112 > Modelo[70, 'promedio'] 1.422\n",
      " > Modelo[82, 'mediana'] 1.840 > Modelo[62, 'promedio'] 1.262\n",
      "\n",
      "\n",
      " > Modelo[80, 'promedio'] 1.762 > Modelo[74, 'mediana'] 1.529 > Modelo[76, 'mediana'] 1.601\n",
      "\n",
      " > Modelo[78, 'mediana'] 1.681\n",
      "\n",
      "\n",
      " > Modelo[101, 'mediana'] 2.541 > Modelo[68, 'promedio'] 1.382 > Modelo[72, 'promedio'] 1.468\n",
      " > Modelo[85, 'promedio'] 1.957 > Modelo[93, 'mediana'] 2.265\n",
      " > Modelo[97, 'mediana'] 2.408 > Modelo[82, 'promedio'] 1.840\n",
      "\n",
      "\n",
      " > Modelo[89, 'promedio'] 2.112\n",
      "\n",
      " > Modelo[74, 'promedio'] 1.529 > Modelo[76, 'promedio'] 1.601\n",
      " > Modelo[83, 'promedio'] 1.878\n",
      "\n",
      "\n",
      " > Modelo[105, 'mediana'] 2.665 > Modelo[97, 'promedio'] 2.408\n",
      "\n",
      "\n",
      "\n",
      "\n",
      " > Modelo[90, 'mediana'] 2.149 > Modelo[86, 'mediana'] 1.995\n",
      "\n",
      " > Modelo[109, 'mediana'] 2.786\n",
      " > Modelo[105, 'promedio'] 2.665 > Modelo[93, 'promedio'] 2.265\n",
      " > Modelo[117, 'mediana'] 3.045 > Modelo[113, 'mediana'] 2.918\n",
      " > Modelo[86, 'promedio'] 1.995 > Modelo[84, 'mediana'] 1.917 > Modelo[78, 'promedio'] 1.681 > Modelo[121, 'mediana'] 3.170 > Modelo[109, 'promedio'] 2.786 > Modelo[94, 'mediana'] 2.301 > Modelo[101, 'promedio'] 2.541\n",
      " > Modelo[113, 'promedio'] 2.918\n",
      "\n",
      " > Modelo[106, 'mediana'] 2.695\n",
      "\n",
      "\n",
      "\n",
      "\n",
      "\n",
      "\n",
      " > Modelo[98, 'mediana'] 2.441 > Modelo[114, 'mediana'] 2.949 > Modelo[84, 'promedio'] 1.917 > Modelo[121, 'promedio'] 3.170 > Modelo[125, 'mediana'] 3.291 > Modelo[117, 'promedio'] 3.045 > Modelo[106, 'promedio'] 2.695 > Modelo[94, 'promedio'] 2.301\n",
      "\n",
      "\n",
      "\n",
      "\n",
      "\n",
      " > Modelo[102, 'mediana'] 2.572\n",
      "\n",
      "\n",
      " > Modelo[122, 'mediana'] 3.200 > Modelo[95, 'mediana'] 2.338\n",
      " > Modelo[90, 'promedio'] 2.149 > Modelo[87, 'mediana'] 2.034 > Modelo[125, 'promedio'] 3.291\n",
      "\n",
      "\n",
      " > Modelo[107, 'mediana'] 2.726\n",
      " > Modelo[102, 'promedio'] 2.572\n",
      " > Modelo[114, 'promedio'] 2.949 > Modelo[129, 'mediana'] 3.453\n",
      "\n",
      "\n",
      "\n",
      " > Modelo[122, 'promedio'] 3.200 > Modelo[107, 'promedio'] 2.726 > Modelo[118, 'mediana'] 3.076 > Modelo[87, 'promedio'] 2.034\n",
      "\n",
      " > Modelo[129, 'promedio'] 3.453 > Modelo[95, 'promedio'] 2.338\n",
      "\n",
      " > Modelo[103, 'mediana'] 2.603\n",
      " > Modelo[91, 'mediana'] 2.188 > Modelo[115, 'mediana'] 2.982 > Modelo[108, 'mediana'] 2.756 > Modelo[98, 'promedio'] 2.441\n",
      " > Modelo[88, 'mediana'] 2.072 > Modelo[126, 'mediana'] 3.320 > Modelo[110, 'mediana'] 2.819\n",
      "\n",
      "\n",
      " > Modelo[123, 'mediana'] 3.231 > Modelo[91, 'promedio'] 2.188\n",
      " > Modelo[96, 'mediana'] 2.372\n",
      " > Modelo[103, 'promedio'] 2.603\n",
      "\n",
      " > Modelo[118, 'promedio'] 3.076\n",
      " > Modelo[88, 'promedio'] 2.072 > Modelo[99, 'mediana'] 2.476\n",
      "\n",
      "\n",
      "\n",
      "\n",
      "\n",
      " > Modelo[96, 'promedio'] 2.372\n",
      " > Modelo[99, 'promedio'] 2.476 > Modelo[130, 'mediana'] 3.502 > Modelo[108, 'promedio'] 2.756 > Modelo[110, 'promedio'] 2.819\n",
      " > Modelo[115, 'promedio'] 2.982 > Modelo[126, 'promedio'] 3.320\n",
      "\n",
      " > Modelo[92, 'mediana'] 2.226\n",
      " > Modelo[104, 'mediana'] 2.634\n",
      "\n",
      "\n",
      " > Modelo[111, 'mediana'] 2.853 > Modelo[100, 'mediana'] 2.508\n",
      "\n",
      " > Modelo[119, 'mediana'] 3.108\n",
      " > Modelo[116, 'mediana'] 3.013 > Modelo[123, 'promedio'] 3.231\n",
      "\n",
      "\n",
      "\n",
      " > Modelo[130, 'promedio'] 3.502\n",
      " > Modelo[111, 'promedio'] 2.853 > Modelo[127, 'mediana'] 3.351\n",
      "\n",
      " > Modelo[100, 'promedio'] 2.508 > Modelo[119, 'promedio'] 3.108 > Modelo[124, 'mediana'] 3.261 > Modelo[116, 'promedio'] 3.013 > Modelo[104, 'promedio'] 2.634 > Modelo[92, 'promedio'] 2.226\n",
      "\n",
      "\n",
      " > Modelo[112, 'mediana'] 2.885\n",
      "\n",
      " > Modelo[127, 'promedio'] 3.351\n",
      "\n",
      " > Modelo[131, 'mediana'] 3.556\n",
      "\n",
      " > Modelo[120, 'mediana'] 3.138\n"
     ]
    },
    {
     "name": "stdout",
     "output_type": "stream",
     "text": [
      " > Modelo[112, 'promedio'] 2.885 > Modelo[128, 'mediana'] 3.400\n",
      "\n",
      " > Modelo[131, 'promedio'] 3.556 > Modelo[124, 'promedio'] 3.261\n",
      "\n",
      " > Modelo[120, 'promedio'] 3.138\n",
      " > Modelo[128, 'promedio'] 3.400 > Modelo[132, 'mediana'] 3.605\n",
      "\n",
      " > Modelo[132, 'promedio'] 3.605\n",
      "terminado\n",
      "[1, 'mediana'] 0.22681809249026863\n",
      "[1, 'promedio'] 0.22681809249026863\n",
      "[2, 'mediana'] 0.2352769336198798\n"
     ]
    },
    {
     "data": {
      "image/png": "[encoded data removed]",
      "text/plain": [
       "<Figure size 1008x504 with 1 Axes>"
      ]
     },
     "metadata": {
      "needs_background": "light"
     },
     "output_type": "display_data"
    }
   ],
   "source": [
    "encontrar_mejor_solucion(temp_serie, 'TS Temperatura', metodo = \"promedio\")"
   ]
  },
  {
   "cell_type": "markdown",
   "id": "84782dad",
   "metadata": {},
   "source": [
    "### g. Haga un modelo usando el algoritmo Prophet de Facebook. Compárelo con los modelos del inciso anterior. ¿Cuál funcionó mejor?"
   ]
  },
  {
   "cell_type": "code",
   "execution_count": null,
   "id": "345d9a12",
   "metadata": {},
   "outputs": [],
   "source": []
  }
 ],
 "metadata": {
  "kernelspec": {
   "display_name": "Python 3 (ipykernel)",
   "language": "python",
   "name": "python3"
  },
  "language_info": {
   "codemirror_mode": {
    "name": "ipython",
    "version": 3
   },
   "file_extension": ".py",
   "mimetype": "text/x-python",
   "name": "python",
   "nbconvert_exporter": "python",
   "pygments_lexer": "ipython3",
   "version": "3.9.5"
  }
 },
 "nbformat": 4,
 "nbformat_minor": 5
}
